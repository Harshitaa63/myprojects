{
  "nbformat": 4,
  "nbformat_minor": 0,
  "metadata": {
    "colab": {
      "provenance": [],
      "authorship_tag": "ABX9TyNT9EiOuNGUj1RLI3igteA4",
      "include_colab_link": true
    },
    "kernelspec": {
      "name": "python3",
      "display_name": "Python 3"
    },
    "language_info": {
      "name": "python"
    }
  },
  "cells": [
    {
      "cell_type": "markdown",
      "metadata": {
        "id": "view-in-github",
        "colab_type": "text"
      },
      "source": [
        "<a href=\"https://colab.research.google.com/github/Harshitaa63/myprojects/blob/main/NLP.ipynb\" target=\"_parent\"><img src=\"https://colab.research.google.com/assets/colab-badge.svg\" alt=\"Open In Colab\"/></a>"
      ]
    },
    {
      "cell_type": "code",
      "execution_count": 1,
      "metadata": {
        "id": "yVhsIjuSVahh"
      },
      "outputs": [],
      "source": [
        "import pandas as pd\n"
      ]
    },
    {
      "cell_type": "code",
      "source": [
        "pip install spacy"
      ],
      "metadata": {
        "colab": {
          "base_uri": "https://localhost:8080/"
        },
        "id": "6mUOY-9pV8TS",
        "outputId": "9cb9d838-6041-4706-a385-2f9ea4d564f7"
      },
      "execution_count": 2,
      "outputs": [
        {
          "output_type": "stream",
          "name": "stdout",
          "text": [
            "Requirement already satisfied: spacy in /usr/local/lib/python3.11/dist-packages (3.8.7)\n",
            "Requirement already satisfied: spacy-legacy<3.1.0,>=3.0.11 in /usr/local/lib/python3.11/dist-packages (from spacy) (3.0.12)\n",
            "Requirement already satisfied: spacy-loggers<2.0.0,>=1.0.0 in /usr/local/lib/python3.11/dist-packages (from spacy) (1.0.5)\n",
            "Requirement already satisfied: murmurhash<1.1.0,>=0.28.0 in /usr/local/lib/python3.11/dist-packages (from spacy) (1.0.13)\n",
            "Requirement already satisfied: cymem<2.1.0,>=2.0.2 in /usr/local/lib/python3.11/dist-packages (from spacy) (2.0.11)\n",
            "Requirement already satisfied: preshed<3.1.0,>=3.0.2 in /usr/local/lib/python3.11/dist-packages (from spacy) (3.0.10)\n",
            "Requirement already satisfied: thinc<8.4.0,>=8.3.4 in /usr/local/lib/python3.11/dist-packages (from spacy) (8.3.6)\n",
            "Requirement already satisfied: wasabi<1.2.0,>=0.9.1 in /usr/local/lib/python3.11/dist-packages (from spacy) (1.1.3)\n",
            "Requirement already satisfied: srsly<3.0.0,>=2.4.3 in /usr/local/lib/python3.11/dist-packages (from spacy) (2.5.1)\n",
            "Requirement already satisfied: catalogue<2.1.0,>=2.0.6 in /usr/local/lib/python3.11/dist-packages (from spacy) (2.0.10)\n",
            "Requirement already satisfied: weasel<0.5.0,>=0.1.0 in /usr/local/lib/python3.11/dist-packages (from spacy) (0.4.1)\n",
            "Requirement already satisfied: typer<1.0.0,>=0.3.0 in /usr/local/lib/python3.11/dist-packages (from spacy) (0.16.0)\n",
            "Requirement already satisfied: tqdm<5.0.0,>=4.38.0 in /usr/local/lib/python3.11/dist-packages (from spacy) (4.67.1)\n",
            "Requirement already satisfied: numpy>=1.19.0 in /usr/local/lib/python3.11/dist-packages (from spacy) (2.0.2)\n",
            "Requirement already satisfied: requests<3.0.0,>=2.13.0 in /usr/local/lib/python3.11/dist-packages (from spacy) (2.32.3)\n",
            "Requirement already satisfied: pydantic!=1.8,!=1.8.1,<3.0.0,>=1.7.4 in /usr/local/lib/python3.11/dist-packages (from spacy) (2.11.7)\n",
            "Requirement already satisfied: jinja2 in /usr/local/lib/python3.11/dist-packages (from spacy) (3.1.6)\n",
            "Requirement already satisfied: setuptools in /usr/local/lib/python3.11/dist-packages (from spacy) (75.2.0)\n",
            "Requirement already satisfied: packaging>=20.0 in /usr/local/lib/python3.11/dist-packages (from spacy) (24.2)\n",
            "Requirement already satisfied: langcodes<4.0.0,>=3.2.0 in /usr/local/lib/python3.11/dist-packages (from spacy) (3.5.0)\n",
            "Requirement already satisfied: language-data>=1.2 in /usr/local/lib/python3.11/dist-packages (from langcodes<4.0.0,>=3.2.0->spacy) (1.3.0)\n",
            "Requirement already satisfied: annotated-types>=0.6.0 in /usr/local/lib/python3.11/dist-packages (from pydantic!=1.8,!=1.8.1,<3.0.0,>=1.7.4->spacy) (0.7.0)\n",
            "Requirement already satisfied: pydantic-core==2.33.2 in /usr/local/lib/python3.11/dist-packages (from pydantic!=1.8,!=1.8.1,<3.0.0,>=1.7.4->spacy) (2.33.2)\n",
            "Requirement already satisfied: typing-extensions>=4.12.2 in /usr/local/lib/python3.11/dist-packages (from pydantic!=1.8,!=1.8.1,<3.0.0,>=1.7.4->spacy) (4.14.0)\n",
            "Requirement already satisfied: typing-inspection>=0.4.0 in /usr/local/lib/python3.11/dist-packages (from pydantic!=1.8,!=1.8.1,<3.0.0,>=1.7.4->spacy) (0.4.1)\n",
            "Requirement already satisfied: charset-normalizer<4,>=2 in /usr/local/lib/python3.11/dist-packages (from requests<3.0.0,>=2.13.0->spacy) (3.4.2)\n",
            "Requirement already satisfied: idna<4,>=2.5 in /usr/local/lib/python3.11/dist-packages (from requests<3.0.0,>=2.13.0->spacy) (3.10)\n",
            "Requirement already satisfied: urllib3<3,>=1.21.1 in /usr/local/lib/python3.11/dist-packages (from requests<3.0.0,>=2.13.0->spacy) (2.4.0)\n",
            "Requirement already satisfied: certifi>=2017.4.17 in /usr/local/lib/python3.11/dist-packages (from requests<3.0.0,>=2.13.0->spacy) (2025.6.15)\n",
            "Requirement already satisfied: blis<1.4.0,>=1.3.0 in /usr/local/lib/python3.11/dist-packages (from thinc<8.4.0,>=8.3.4->spacy) (1.3.0)\n",
            "Requirement already satisfied: confection<1.0.0,>=0.0.1 in /usr/local/lib/python3.11/dist-packages (from thinc<8.4.0,>=8.3.4->spacy) (0.1.5)\n",
            "Requirement already satisfied: click>=8.0.0 in /usr/local/lib/python3.11/dist-packages (from typer<1.0.0,>=0.3.0->spacy) (8.2.1)\n",
            "Requirement already satisfied: shellingham>=1.3.0 in /usr/local/lib/python3.11/dist-packages (from typer<1.0.0,>=0.3.0->spacy) (1.5.4)\n",
            "Requirement already satisfied: rich>=10.11.0 in /usr/local/lib/python3.11/dist-packages (from typer<1.0.0,>=0.3.0->spacy) (13.9.4)\n",
            "Requirement already satisfied: cloudpathlib<1.0.0,>=0.7.0 in /usr/local/lib/python3.11/dist-packages (from weasel<0.5.0,>=0.1.0->spacy) (0.21.1)\n",
            "Requirement already satisfied: smart-open<8.0.0,>=5.2.1 in /usr/local/lib/python3.11/dist-packages (from weasel<0.5.0,>=0.1.0->spacy) (7.1.0)\n",
            "Requirement already satisfied: MarkupSafe>=2.0 in /usr/local/lib/python3.11/dist-packages (from jinja2->spacy) (3.0.2)\n",
            "Requirement already satisfied: marisa-trie>=1.1.0 in /usr/local/lib/python3.11/dist-packages (from language-data>=1.2->langcodes<4.0.0,>=3.2.0->spacy) (1.2.1)\n",
            "Requirement already satisfied: markdown-it-py>=2.2.0 in /usr/local/lib/python3.11/dist-packages (from rich>=10.11.0->typer<1.0.0,>=0.3.0->spacy) (3.0.0)\n",
            "Requirement already satisfied: pygments<3.0.0,>=2.13.0 in /usr/local/lib/python3.11/dist-packages (from rich>=10.11.0->typer<1.0.0,>=0.3.0->spacy) (2.19.2)\n",
            "Requirement already satisfied: wrapt in /usr/local/lib/python3.11/dist-packages (from smart-open<8.0.0,>=5.2.1->weasel<0.5.0,>=0.1.0->spacy) (1.17.2)\n",
            "Requirement already satisfied: mdurl~=0.1 in /usr/local/lib/python3.11/dist-packages (from markdown-it-py>=2.2.0->rich>=10.11.0->typer<1.0.0,>=0.3.0->spacy) (0.1.2)\n"
          ]
        }
      ]
    },
    {
      "cell_type": "code",
      "source": [
        "pip install nltk"
      ],
      "metadata": {
        "colab": {
          "base_uri": "https://localhost:8080/"
        },
        "id": "wm1z5OdnWIwr",
        "outputId": "10c2f769-313f-41f9-c87e-df038af1bca2"
      },
      "execution_count": 3,
      "outputs": [
        {
          "output_type": "stream",
          "name": "stdout",
          "text": [
            "Requirement already satisfied: nltk in /usr/local/lib/python3.11/dist-packages (3.9.1)\n",
            "Requirement already satisfied: click in /usr/local/lib/python3.11/dist-packages (from nltk) (8.2.1)\n",
            "Requirement already satisfied: joblib in /usr/local/lib/python3.11/dist-packages (from nltk) (1.5.1)\n",
            "Requirement already satisfied: regex>=2021.8.3 in /usr/local/lib/python3.11/dist-packages (from nltk) (2024.11.6)\n",
            "Requirement already satisfied: tqdm in /usr/local/lib/python3.11/dist-packages (from nltk) (4.67.1)\n"
          ]
        }
      ]
    },
    {
      "cell_type": "code",
      "source": [
        "df= pd.read_csv('/content/offerings - Reviews_Preprocessed.csv')\n",
        "print(df.head())"
      ],
      "metadata": {
        "colab": {
          "base_uri": "https://localhost:8080/"
        },
        "id": "o8X1iQynWPMV",
        "outputId": "4c4072c9-6988-467d-e2b9-ccf8e2225ec0"
      },
      "execution_count": 4,
      "outputs": [
        {
          "output_type": "stream",
          "name": "stdout",
          "text": [
            "       id                           name    date  \\\n",
            "0  113317  Casablanca Hotel Times Square  Dec 19   \n",
            "1  113317  Casablanca Hotel Times Square  Dec 17   \n",
            "2  113317  Casablanca Hotel Times Square  Dec 12   \n",
            "3  113317  Casablanca Hotel Times Square  Dec 12   \n",
            "4  113317  Casablanca Hotel Times Square  Dec 12   \n",
            "\n",
            "                                        review title  \\\n",
            "0  Wow, fabulous, amazing hotel, great location, ...   \n",
            "1                     Greatest boutique hotel in NYC   \n",
            "2                     Great Hotel and Great Location   \n",
            "3                              A Jewel in the Jungle   \n",
            "4                     Girls Trip in NYC at Christmas   \n",
            "\n",
            "                                              review            travel type  \\\n",
            "0  Amazing Mother and Daughter time at Casablanca...   Traveled with family   \n",
            "1  After staying at different hotels in NYC over ...   Traveled as a couple   \n",
            "2  Fantastic boutique hotel with the greatest loc...   Traveled as a couple   \n",
            "3  Great hotel and staff. Convenient to all thing...   Traveled as a couple   \n",
            "4  This is our 2nd girls trip to NYC & at the Cas...  Traveled with friends   \n",
            "\n",
            "   rating                               preprocessed_reviews  \n",
            "0       5  amazing mother daughter time casablanca hotel ...  \n",
            "1       5  staying different hotel nyc many year found tr...  \n",
            "2       5  fantastic boutique hotel greatest location . s...  \n",
            "3       5  great hotel staff . convenient thing nyc . fri...  \n",
            "4       5  2nd girl trip nyc & casablanca ! ! love hotel ...  \n"
          ]
        }
      ]
    },
    {
      "cell_type": "code",
      "source": [
        "print(df.tail())"
      ],
      "metadata": {
        "colab": {
          "base_uri": "https://localhost:8080/"
        },
        "id": "VtW0q3oQWyC0",
        "outputId": "daa01fd9-8614-45b1-e3b2-b0b65c4a834b"
      },
      "execution_count": 5,
      "outputs": [
        {
          "output_type": "stream",
          "name": "stdout",
          "text": [
            "          id                      name      date  \\\n",
            "245  1200103  Hotel Sorella CITYCENTRE     Dec 4   \n",
            "246  1200103  Hotel Sorella CITYCENTRE     Dec 1   \n",
            "247  1200103  Hotel Sorella CITYCENTRE  Nov 2023   \n",
            "248  1200103  Hotel Sorella CITYCENTRE  Nov 2023   \n",
            "249  1200103  Hotel Sorella CITYCENTRE  Nov 2023   \n",
            "\n",
            "                                          review title  \\\n",
            "245  Loved the location very closed to shops, resta...   \n",
            "246                      Overpriced and poorly managed   \n",
            "247  Excellent comfort and service with added trans...   \n",
            "248                        Great hotel shuttle service   \n",
            "249                            Collins is so helpful!!   \n",
            "\n",
            "                                                review           travel type  \\\n",
            "245  I am very particular on hotels I usually reque...  Traveled on business   \n",
            "246  Issues in the room, sink clogged, no soap, too...  Traveled on business   \n",
            "247  Really good experience staying at this excelle...  Traveled on business   \n",
            "248  Mr Collins had provided exceptional service as...  Traveled on business   \n",
            "249  Collins helped us unload so many bags and ensu...  Traveled on business   \n",
            "\n",
            "     rating                               preprocessed_reviews  \n",
            "245       5  particular hotel usually request omni st regis...  \n",
            "246       4  issue room , sink clogged , soap , took multip...  \n",
            "247       5  really good experience staying excellent hotel...  \n",
            "248       5  mr collins provided exceptional service brough...  \n",
            "249       5  collins helped u unload many bag ensured got r...  \n"
          ]
        }
      ]
    },
    {
      "cell_type": "code",
      "source": [
        "#print first 5 rows\n",
        "df.head()"
      ],
      "metadata": {
        "colab": {
          "base_uri": "https://localhost:8080/",
          "height": 293
        },
        "id": "UMz_e0UhXfzu",
        "outputId": "fa7c5e4f-b046-4ce3-a883-d1e2e5b882a9"
      },
      "execution_count": 6,
      "outputs": [
        {
          "output_type": "execute_result",
          "data": {
            "text/plain": [
              "       id                           name    date  \\\n",
              "0  113317  Casablanca Hotel Times Square  Dec 19   \n",
              "1  113317  Casablanca Hotel Times Square  Dec 17   \n",
              "2  113317  Casablanca Hotel Times Square  Dec 12   \n",
              "3  113317  Casablanca Hotel Times Square  Dec 12   \n",
              "4  113317  Casablanca Hotel Times Square  Dec 12   \n",
              "\n",
              "                                        review title  \\\n",
              "0  Wow, fabulous, amazing hotel, great location, ...   \n",
              "1                     Greatest boutique hotel in NYC   \n",
              "2                     Great Hotel and Great Location   \n",
              "3                              A Jewel in the Jungle   \n",
              "4                     Girls Trip in NYC at Christmas   \n",
              "\n",
              "                                              review            travel type  \\\n",
              "0  Amazing Mother and Daughter time at Casablanca...   Traveled with family   \n",
              "1  After staying at different hotels in NYC over ...   Traveled as a couple   \n",
              "2  Fantastic boutique hotel with the greatest loc...   Traveled as a couple   \n",
              "3  Great hotel and staff. Convenient to all thing...   Traveled as a couple   \n",
              "4  This is our 2nd girls trip to NYC & at the Cas...  Traveled with friends   \n",
              "\n",
              "   rating                               preprocessed_reviews  \n",
              "0       5  amazing mother daughter time casablanca hotel ...  \n",
              "1       5  staying different hotel nyc many year found tr...  \n",
              "2       5  fantastic boutique hotel greatest location . s...  \n",
              "3       5  great hotel staff . convenient thing nyc . fri...  \n",
              "4       5  2nd girl trip nyc & casablanca ! ! love hotel ...  "
            ],
            "text/html": [
              "\n",
              "  <div id=\"df-d04e06a3-24de-417d-ba56-c5440031274a\" class=\"colab-df-container\">\n",
              "    <div>\n",
              "<style scoped>\n",
              "    .dataframe tbody tr th:only-of-type {\n",
              "        vertical-align: middle;\n",
              "    }\n",
              "\n",
              "    .dataframe tbody tr th {\n",
              "        vertical-align: top;\n",
              "    }\n",
              "\n",
              "    .dataframe thead th {\n",
              "        text-align: right;\n",
              "    }\n",
              "</style>\n",
              "<table border=\"1\" class=\"dataframe\">\n",
              "  <thead>\n",
              "    <tr style=\"text-align: right;\">\n",
              "      <th></th>\n",
              "      <th>id</th>\n",
              "      <th>name</th>\n",
              "      <th>date</th>\n",
              "      <th>review title</th>\n",
              "      <th>review</th>\n",
              "      <th>travel type</th>\n",
              "      <th>rating</th>\n",
              "      <th>preprocessed_reviews</th>\n",
              "    </tr>\n",
              "  </thead>\n",
              "  <tbody>\n",
              "    <tr>\n",
              "      <th>0</th>\n",
              "      <td>113317</td>\n",
              "      <td>Casablanca Hotel Times Square</td>\n",
              "      <td>Dec 19</td>\n",
              "      <td>Wow, fabulous, amazing hotel, great location, ...</td>\n",
              "      <td>Amazing Mother and Daughter time at Casablanca...</td>\n",
              "      <td>Traveled with family</td>\n",
              "      <td>5</td>\n",
              "      <td>amazing mother daughter time casablanca hotel ...</td>\n",
              "    </tr>\n",
              "    <tr>\n",
              "      <th>1</th>\n",
              "      <td>113317</td>\n",
              "      <td>Casablanca Hotel Times Square</td>\n",
              "      <td>Dec 17</td>\n",
              "      <td>Greatest boutique hotel in NYC</td>\n",
              "      <td>After staying at different hotels in NYC over ...</td>\n",
              "      <td>Traveled as a couple</td>\n",
              "      <td>5</td>\n",
              "      <td>staying different hotel nyc many year found tr...</td>\n",
              "    </tr>\n",
              "    <tr>\n",
              "      <th>2</th>\n",
              "      <td>113317</td>\n",
              "      <td>Casablanca Hotel Times Square</td>\n",
              "      <td>Dec 12</td>\n",
              "      <td>Great Hotel and Great Location</td>\n",
              "      <td>Fantastic boutique hotel with the greatest loc...</td>\n",
              "      <td>Traveled as a couple</td>\n",
              "      <td>5</td>\n",
              "      <td>fantastic boutique hotel greatest location . s...</td>\n",
              "    </tr>\n",
              "    <tr>\n",
              "      <th>3</th>\n",
              "      <td>113317</td>\n",
              "      <td>Casablanca Hotel Times Square</td>\n",
              "      <td>Dec 12</td>\n",
              "      <td>A Jewel in the Jungle</td>\n",
              "      <td>Great hotel and staff. Convenient to all thing...</td>\n",
              "      <td>Traveled as a couple</td>\n",
              "      <td>5</td>\n",
              "      <td>great hotel staff . convenient thing nyc . fri...</td>\n",
              "    </tr>\n",
              "    <tr>\n",
              "      <th>4</th>\n",
              "      <td>113317</td>\n",
              "      <td>Casablanca Hotel Times Square</td>\n",
              "      <td>Dec 12</td>\n",
              "      <td>Girls Trip in NYC at Christmas</td>\n",
              "      <td>This is our 2nd girls trip to NYC &amp; at the Cas...</td>\n",
              "      <td>Traveled with friends</td>\n",
              "      <td>5</td>\n",
              "      <td>2nd girl trip nyc &amp; casablanca ! ! love hotel ...</td>\n",
              "    </tr>\n",
              "  </tbody>\n",
              "</table>\n",
              "</div>\n",
              "    <div class=\"colab-df-buttons\">\n",
              "\n",
              "  <div class=\"colab-df-container\">\n",
              "    <button class=\"colab-df-convert\" onclick=\"convertToInteractive('df-d04e06a3-24de-417d-ba56-c5440031274a')\"\n",
              "            title=\"Convert this dataframe to an interactive table.\"\n",
              "            style=\"display:none;\">\n",
              "\n",
              "  <svg xmlns=\"http://www.w3.org/2000/svg\" height=\"24px\" viewBox=\"0 -960 960 960\">\n",
              "    <path d=\"M120-120v-720h720v720H120Zm60-500h600v-160H180v160Zm220 220h160v-160H400v160Zm0 220h160v-160H400v160ZM180-400h160v-160H180v160Zm440 0h160v-160H620v160ZM180-180h160v-160H180v160Zm440 0h160v-160H620v160Z\"/>\n",
              "  </svg>\n",
              "    </button>\n",
              "\n",
              "  <style>\n",
              "    .colab-df-container {\n",
              "      display:flex;\n",
              "      gap: 12px;\n",
              "    }\n",
              "\n",
              "    .colab-df-convert {\n",
              "      background-color: #E8F0FE;\n",
              "      border: none;\n",
              "      border-radius: 50%;\n",
              "      cursor: pointer;\n",
              "      display: none;\n",
              "      fill: #1967D2;\n",
              "      height: 32px;\n",
              "      padding: 0 0 0 0;\n",
              "      width: 32px;\n",
              "    }\n",
              "\n",
              "    .colab-df-convert:hover {\n",
              "      background-color: #E2EBFA;\n",
              "      box-shadow: 0px 1px 2px rgba(60, 64, 67, 0.3), 0px 1px 3px 1px rgba(60, 64, 67, 0.15);\n",
              "      fill: #174EA6;\n",
              "    }\n",
              "\n",
              "    .colab-df-buttons div {\n",
              "      margin-bottom: 4px;\n",
              "    }\n",
              "\n",
              "    [theme=dark] .colab-df-convert {\n",
              "      background-color: #3B4455;\n",
              "      fill: #D2E3FC;\n",
              "    }\n",
              "\n",
              "    [theme=dark] .colab-df-convert:hover {\n",
              "      background-color: #434B5C;\n",
              "      box-shadow: 0px 1px 3px 1px rgba(0, 0, 0, 0.15);\n",
              "      filter: drop-shadow(0px 1px 2px rgba(0, 0, 0, 0.3));\n",
              "      fill: #FFFFFF;\n",
              "    }\n",
              "  </style>\n",
              "\n",
              "    <script>\n",
              "      const buttonEl =\n",
              "        document.querySelector('#df-d04e06a3-24de-417d-ba56-c5440031274a button.colab-df-convert');\n",
              "      buttonEl.style.display =\n",
              "        google.colab.kernel.accessAllowed ? 'block' : 'none';\n",
              "\n",
              "      async function convertToInteractive(key) {\n",
              "        const element = document.querySelector('#df-d04e06a3-24de-417d-ba56-c5440031274a');\n",
              "        const dataTable =\n",
              "          await google.colab.kernel.invokeFunction('convertToInteractive',\n",
              "                                                    [key], {});\n",
              "        if (!dataTable) return;\n",
              "\n",
              "        const docLinkHtml = 'Like what you see? Visit the ' +\n",
              "          '<a target=\"_blank\" href=https://colab.research.google.com/notebooks/data_table.ipynb>data table notebook</a>'\n",
              "          + ' to learn more about interactive tables.';\n",
              "        element.innerHTML = '';\n",
              "        dataTable['output_type'] = 'display_data';\n",
              "        await google.colab.output.renderOutput(dataTable, element);\n",
              "        const docLink = document.createElement('div');\n",
              "        docLink.innerHTML = docLinkHtml;\n",
              "        element.appendChild(docLink);\n",
              "      }\n",
              "    </script>\n",
              "  </div>\n",
              "\n",
              "\n",
              "    <div id=\"df-530a2dbd-c334-4629-879d-bc6dd6f708c7\">\n",
              "      <button class=\"colab-df-quickchart\" onclick=\"quickchart('df-530a2dbd-c334-4629-879d-bc6dd6f708c7')\"\n",
              "                title=\"Suggest charts\"\n",
              "                style=\"display:none;\">\n",
              "\n",
              "<svg xmlns=\"http://www.w3.org/2000/svg\" height=\"24px\"viewBox=\"0 0 24 24\"\n",
              "     width=\"24px\">\n",
              "    <g>\n",
              "        <path d=\"M19 3H5c-1.1 0-2 .9-2 2v14c0 1.1.9 2 2 2h14c1.1 0 2-.9 2-2V5c0-1.1-.9-2-2-2zM9 17H7v-7h2v7zm4 0h-2V7h2v10zm4 0h-2v-4h2v4z\"/>\n",
              "    </g>\n",
              "</svg>\n",
              "      </button>\n",
              "\n",
              "<style>\n",
              "  .colab-df-quickchart {\n",
              "      --bg-color: #E8F0FE;\n",
              "      --fill-color: #1967D2;\n",
              "      --hover-bg-color: #E2EBFA;\n",
              "      --hover-fill-color: #174EA6;\n",
              "      --disabled-fill-color: #AAA;\n",
              "      --disabled-bg-color: #DDD;\n",
              "  }\n",
              "\n",
              "  [theme=dark] .colab-df-quickchart {\n",
              "      --bg-color: #3B4455;\n",
              "      --fill-color: #D2E3FC;\n",
              "      --hover-bg-color: #434B5C;\n",
              "      --hover-fill-color: #FFFFFF;\n",
              "      --disabled-bg-color: #3B4455;\n",
              "      --disabled-fill-color: #666;\n",
              "  }\n",
              "\n",
              "  .colab-df-quickchart {\n",
              "    background-color: var(--bg-color);\n",
              "    border: none;\n",
              "    border-radius: 50%;\n",
              "    cursor: pointer;\n",
              "    display: none;\n",
              "    fill: var(--fill-color);\n",
              "    height: 32px;\n",
              "    padding: 0;\n",
              "    width: 32px;\n",
              "  }\n",
              "\n",
              "  .colab-df-quickchart:hover {\n",
              "    background-color: var(--hover-bg-color);\n",
              "    box-shadow: 0 1px 2px rgba(60, 64, 67, 0.3), 0 1px 3px 1px rgba(60, 64, 67, 0.15);\n",
              "    fill: var(--button-hover-fill-color);\n",
              "  }\n",
              "\n",
              "  .colab-df-quickchart-complete:disabled,\n",
              "  .colab-df-quickchart-complete:disabled:hover {\n",
              "    background-color: var(--disabled-bg-color);\n",
              "    fill: var(--disabled-fill-color);\n",
              "    box-shadow: none;\n",
              "  }\n",
              "\n",
              "  .colab-df-spinner {\n",
              "    border: 2px solid var(--fill-color);\n",
              "    border-color: transparent;\n",
              "    border-bottom-color: var(--fill-color);\n",
              "    animation:\n",
              "      spin 1s steps(1) infinite;\n",
              "  }\n",
              "\n",
              "  @keyframes spin {\n",
              "    0% {\n",
              "      border-color: transparent;\n",
              "      border-bottom-color: var(--fill-color);\n",
              "      border-left-color: var(--fill-color);\n",
              "    }\n",
              "    20% {\n",
              "      border-color: transparent;\n",
              "      border-left-color: var(--fill-color);\n",
              "      border-top-color: var(--fill-color);\n",
              "    }\n",
              "    30% {\n",
              "      border-color: transparent;\n",
              "      border-left-color: var(--fill-color);\n",
              "      border-top-color: var(--fill-color);\n",
              "      border-right-color: var(--fill-color);\n",
              "    }\n",
              "    40% {\n",
              "      border-color: transparent;\n",
              "      border-right-color: var(--fill-color);\n",
              "      border-top-color: var(--fill-color);\n",
              "    }\n",
              "    60% {\n",
              "      border-color: transparent;\n",
              "      border-right-color: var(--fill-color);\n",
              "    }\n",
              "    80% {\n",
              "      border-color: transparent;\n",
              "      border-right-color: var(--fill-color);\n",
              "      border-bottom-color: var(--fill-color);\n",
              "    }\n",
              "    90% {\n",
              "      border-color: transparent;\n",
              "      border-bottom-color: var(--fill-color);\n",
              "    }\n",
              "  }\n",
              "</style>\n",
              "\n",
              "      <script>\n",
              "        async function quickchart(key) {\n",
              "          const quickchartButtonEl =\n",
              "            document.querySelector('#' + key + ' button');\n",
              "          quickchartButtonEl.disabled = true;  // To prevent multiple clicks.\n",
              "          quickchartButtonEl.classList.add('colab-df-spinner');\n",
              "          try {\n",
              "            const charts = await google.colab.kernel.invokeFunction(\n",
              "                'suggestCharts', [key], {});\n",
              "          } catch (error) {\n",
              "            console.error('Error during call to suggestCharts:', error);\n",
              "          }\n",
              "          quickchartButtonEl.classList.remove('colab-df-spinner');\n",
              "          quickchartButtonEl.classList.add('colab-df-quickchart-complete');\n",
              "        }\n",
              "        (() => {\n",
              "          let quickchartButtonEl =\n",
              "            document.querySelector('#df-530a2dbd-c334-4629-879d-bc6dd6f708c7 button');\n",
              "          quickchartButtonEl.style.display =\n",
              "            google.colab.kernel.accessAllowed ? 'block' : 'none';\n",
              "        })();\n",
              "      </script>\n",
              "    </div>\n",
              "\n",
              "    </div>\n",
              "  </div>\n"
            ],
            "application/vnd.google.colaboratory.intrinsic+json": {
              "type": "dataframe",
              "variable_name": "df",
              "summary": "{\n  \"name\": \"df\",\n  \"rows\": 250,\n  \"fields\": [\n    {\n      \"column\": \"id\",\n      \"properties\": {\n        \"dtype\": \"number\",\n        \"std\": 816427,\n        \"min\": 76049,\n        \"max\": 2643161,\n        \"num_unique_values\": 25,\n        \"samples\": [\n          93559,\n          224224,\n          113317\n        ],\n        \"semantic_type\": \"\",\n        \"description\": \"\"\n      }\n    },\n    {\n      \"column\": \"name\",\n      \"properties\": {\n        \"dtype\": \"category\",\n        \"num_unique_values\": 25,\n        \"samples\": [\n          \"The Sherry-Netherland Hotel\",\n          \"The Ritz-Carlton New York, Central Park\",\n          \"Casablanca Hotel Times Square\"\n        ],\n        \"semantic_type\": \"\",\n        \"description\": \"\"\n      }\n    },\n    {\n      \"column\": \"date\",\n      \"properties\": {\n        \"dtype\": \"category\",\n        \"num_unique_values\": 48,\n        \"samples\": [\n          \"Sep 2022\",\n          \"Jan 2021\",\n          \"Oct 2022\"\n        ],\n        \"semantic_type\": \"\",\n        \"description\": \"\"\n      }\n    },\n    {\n      \"column\": \"review title\",\n      \"properties\": {\n        \"dtype\": \"string\",\n        \"num_unique_values\": 245,\n        \"samples\": [\n          \"Underwhelming\",\n          \"Girls Trip to NYC!\",\n          \"Our home away from home in New York!\"\n        ],\n        \"semantic_type\": \"\",\n        \"description\": \"\"\n      }\n    },\n    {\n      \"column\": \"review\",\n      \"properties\": {\n        \"dtype\": \"string\",\n        \"num_unique_values\": 250,\n        \"samples\": [\n          \"This hotel is very close to so much. The hotel is clean, there is plenty of sitting room in the lobby, they offer morning coffee and an afternoon glass of wine! The staff was exceptional. And the rooms were clean and roomy. The bed extremelt comfortable. Will be my go to on future visits to the city!\",\n          \"Best Hotel stay ever! I will be going back again! The staff was excellent, the room was clean, and the food was fabulous! Great location, we were able to walk so many places. Steps from Times Square, and close to so many Broadway shows.\",\n          \"Stayed recently at this hotel and found  the location great within walking distance of many tourist attractions and staff friendly. Rooms were quite outdated but they were clean and beds quite comfortable.  The main issue for us was noise and not from the streets of New York but within the hotel. Our room may as well have had no walls between us & the next room. While we understand hotel rooms are side by side however the walls really were paper thin in our room. Our neigbours weren\\u2019t noisy by intention but we could hear their conversations, hairdryer, phone ringing etc and this wasn\\u2019t helped by having a young child who was clearly struggling with sleep and as a result had our child awake too. They too would have been able to hear our noises also. Unfortunately this really did hamper during the day our enjoyment as everyone was tired. Ear plugs are definitely needed though if you\\u2019re sensitive to sounds when staying in this hotel and especially for your small kids if you have children with you. We would stay again however with a request for quiet room,  as staff are very helpful and a big shout out to the gentleman who sorted our luggage and airport transfer.\"\n        ],\n        \"semantic_type\": \"\",\n        \"description\": \"\"\n      }\n    },\n    {\n      \"column\": \"travel type\",\n      \"properties\": {\n        \"dtype\": \"category\",\n        \"num_unique_values\": 5,\n        \"samples\": [\n          \"Traveled as a couple\",\n          \"Traveled solo\",\n          \"Traveled with friends\"\n        ],\n        \"semantic_type\": \"\",\n        \"description\": \"\"\n      }\n    },\n    {\n      \"column\": \"rating\",\n      \"properties\": {\n        \"dtype\": \"number\",\n        \"std\": 1,\n        \"min\": 1,\n        \"max\": 5,\n        \"num_unique_values\": 5,\n        \"samples\": [\n          1,\n          2,\n          4\n        ],\n        \"semantic_type\": \"\",\n        \"description\": \"\"\n      }\n    },\n    {\n      \"column\": \"preprocessed_reviews\",\n      \"properties\": {\n        \"dtype\": \"string\",\n        \"num_unique_values\": 250,\n        \"samples\": [\n          \"hotel close much . hotel clean , plenty sitting room lobby , offer morning coffee afternoon glass wine ! staff exceptional . room clean roomy . bed extremelt comfortable . go future visit city !\",\n          \"best hotel stay ever ! going back ! staff excellent , room clean , food fabulous ! great location , able walk many place . step time square , close many broadway show .\",\n          \"stayed recently hotel found location great within walking distance many tourist attraction staff friendly . room quite outdated clean bed quite comfortable . main issue u noise street new york within hotel . room may well wall u & next room . understand hotel room side side however wall really paper thin room . neigbours \\u2019 noisy intention could hear conversation , hairdryer , phone ringing etc \\u2019 helped young child clearly struggling sleep result child awake . would able hear noise also . unfortunately really hamper day enjoyment everyone tired . ear plug definitely needed though \\u2019 sensitive sound staying hotel especially small kid child . would stay however request quiet room , staff helpful big shout gentleman sorted luggage airport transfer .\"\n        ],\n        \"semantic_type\": \"\",\n        \"description\": \"\"\n      }\n    }\n  ]\n}"
            }
          },
          "metadata": {},
          "execution_count": 6
        }
      ]
    },
    {
      "cell_type": "code",
      "source": [
        "#print last 5 rows\n",
        "df.tail()"
      ],
      "metadata": {
        "colab": {
          "base_uri": "https://localhost:8080/",
          "height": 293
        },
        "id": "WhaAlpWYXnDg",
        "outputId": "391db76b-1946-41d0-b14f-38c8f4172a9e"
      },
      "execution_count": 7,
      "outputs": [
        {
          "output_type": "execute_result",
          "data": {
            "text/plain": [
              "          id                      name      date  \\\n",
              "245  1200103  Hotel Sorella CITYCENTRE     Dec 4   \n",
              "246  1200103  Hotel Sorella CITYCENTRE     Dec 1   \n",
              "247  1200103  Hotel Sorella CITYCENTRE  Nov 2023   \n",
              "248  1200103  Hotel Sorella CITYCENTRE  Nov 2023   \n",
              "249  1200103  Hotel Sorella CITYCENTRE  Nov 2023   \n",
              "\n",
              "                                          review title  \\\n",
              "245  Loved the location very closed to shops, resta...   \n",
              "246                      Overpriced and poorly managed   \n",
              "247  Excellent comfort and service with added trans...   \n",
              "248                        Great hotel shuttle service   \n",
              "249                            Collins is so helpful!!   \n",
              "\n",
              "                                                review           travel type  \\\n",
              "245  I am very particular on hotels I usually reque...  Traveled on business   \n",
              "246  Issues in the room, sink clogged, no soap, too...  Traveled on business   \n",
              "247  Really good experience staying at this excelle...  Traveled on business   \n",
              "248  Mr Collins had provided exceptional service as...  Traveled on business   \n",
              "249  Collins helped us unload so many bags and ensu...  Traveled on business   \n",
              "\n",
              "     rating                               preprocessed_reviews  \n",
              "245       5  particular hotel usually request omni st regis...  \n",
              "246       4  issue room , sink clogged , soap , took multip...  \n",
              "247       5  really good experience staying excellent hotel...  \n",
              "248       5  mr collins provided exceptional service brough...  \n",
              "249       5  collins helped u unload many bag ensured got r...  "
            ],
            "text/html": [
              "\n",
              "  <div id=\"df-32dee688-8cc9-4481-8163-d68bcef1d242\" class=\"colab-df-container\">\n",
              "    <div>\n",
              "<style scoped>\n",
              "    .dataframe tbody tr th:only-of-type {\n",
              "        vertical-align: middle;\n",
              "    }\n",
              "\n",
              "    .dataframe tbody tr th {\n",
              "        vertical-align: top;\n",
              "    }\n",
              "\n",
              "    .dataframe thead th {\n",
              "        text-align: right;\n",
              "    }\n",
              "</style>\n",
              "<table border=\"1\" class=\"dataframe\">\n",
              "  <thead>\n",
              "    <tr style=\"text-align: right;\">\n",
              "      <th></th>\n",
              "      <th>id</th>\n",
              "      <th>name</th>\n",
              "      <th>date</th>\n",
              "      <th>review title</th>\n",
              "      <th>review</th>\n",
              "      <th>travel type</th>\n",
              "      <th>rating</th>\n",
              "      <th>preprocessed_reviews</th>\n",
              "    </tr>\n",
              "  </thead>\n",
              "  <tbody>\n",
              "    <tr>\n",
              "      <th>245</th>\n",
              "      <td>1200103</td>\n",
              "      <td>Hotel Sorella CITYCENTRE</td>\n",
              "      <td>Dec 4</td>\n",
              "      <td>Loved the location very closed to shops, resta...</td>\n",
              "      <td>I am very particular on hotels I usually reque...</td>\n",
              "      <td>Traveled on business</td>\n",
              "      <td>5</td>\n",
              "      <td>particular hotel usually request omni st regis...</td>\n",
              "    </tr>\n",
              "    <tr>\n",
              "      <th>246</th>\n",
              "      <td>1200103</td>\n",
              "      <td>Hotel Sorella CITYCENTRE</td>\n",
              "      <td>Dec 1</td>\n",
              "      <td>Overpriced and poorly managed</td>\n",
              "      <td>Issues in the room, sink clogged, no soap, too...</td>\n",
              "      <td>Traveled on business</td>\n",
              "      <td>4</td>\n",
              "      <td>issue room , sink clogged , soap , took multip...</td>\n",
              "    </tr>\n",
              "    <tr>\n",
              "      <th>247</th>\n",
              "      <td>1200103</td>\n",
              "      <td>Hotel Sorella CITYCENTRE</td>\n",
              "      <td>Nov 2023</td>\n",
              "      <td>Excellent comfort and service with added trans...</td>\n",
              "      <td>Really good experience staying at this excelle...</td>\n",
              "      <td>Traveled on business</td>\n",
              "      <td>5</td>\n",
              "      <td>really good experience staying excellent hotel...</td>\n",
              "    </tr>\n",
              "    <tr>\n",
              "      <th>248</th>\n",
              "      <td>1200103</td>\n",
              "      <td>Hotel Sorella CITYCENTRE</td>\n",
              "      <td>Nov 2023</td>\n",
              "      <td>Great hotel shuttle service</td>\n",
              "      <td>Mr Collins had provided exceptional service as...</td>\n",
              "      <td>Traveled on business</td>\n",
              "      <td>5</td>\n",
              "      <td>mr collins provided exceptional service brough...</td>\n",
              "    </tr>\n",
              "    <tr>\n",
              "      <th>249</th>\n",
              "      <td>1200103</td>\n",
              "      <td>Hotel Sorella CITYCENTRE</td>\n",
              "      <td>Nov 2023</td>\n",
              "      <td>Collins is so helpful!!</td>\n",
              "      <td>Collins helped us unload so many bags and ensu...</td>\n",
              "      <td>Traveled on business</td>\n",
              "      <td>5</td>\n",
              "      <td>collins helped u unload many bag ensured got r...</td>\n",
              "    </tr>\n",
              "  </tbody>\n",
              "</table>\n",
              "</div>\n",
              "    <div class=\"colab-df-buttons\">\n",
              "\n",
              "  <div class=\"colab-df-container\">\n",
              "    <button class=\"colab-df-convert\" onclick=\"convertToInteractive('df-32dee688-8cc9-4481-8163-d68bcef1d242')\"\n",
              "            title=\"Convert this dataframe to an interactive table.\"\n",
              "            style=\"display:none;\">\n",
              "\n",
              "  <svg xmlns=\"http://www.w3.org/2000/svg\" height=\"24px\" viewBox=\"0 -960 960 960\">\n",
              "    <path d=\"M120-120v-720h720v720H120Zm60-500h600v-160H180v160Zm220 220h160v-160H400v160Zm0 220h160v-160H400v160ZM180-400h160v-160H180v160Zm440 0h160v-160H620v160ZM180-180h160v-160H180v160Zm440 0h160v-160H620v160Z\"/>\n",
              "  </svg>\n",
              "    </button>\n",
              "\n",
              "  <style>\n",
              "    .colab-df-container {\n",
              "      display:flex;\n",
              "      gap: 12px;\n",
              "    }\n",
              "\n",
              "    .colab-df-convert {\n",
              "      background-color: #E8F0FE;\n",
              "      border: none;\n",
              "      border-radius: 50%;\n",
              "      cursor: pointer;\n",
              "      display: none;\n",
              "      fill: #1967D2;\n",
              "      height: 32px;\n",
              "      padding: 0 0 0 0;\n",
              "      width: 32px;\n",
              "    }\n",
              "\n",
              "    .colab-df-convert:hover {\n",
              "      background-color: #E2EBFA;\n",
              "      box-shadow: 0px 1px 2px rgba(60, 64, 67, 0.3), 0px 1px 3px 1px rgba(60, 64, 67, 0.15);\n",
              "      fill: #174EA6;\n",
              "    }\n",
              "\n",
              "    .colab-df-buttons div {\n",
              "      margin-bottom: 4px;\n",
              "    }\n",
              "\n",
              "    [theme=dark] .colab-df-convert {\n",
              "      background-color: #3B4455;\n",
              "      fill: #D2E3FC;\n",
              "    }\n",
              "\n",
              "    [theme=dark] .colab-df-convert:hover {\n",
              "      background-color: #434B5C;\n",
              "      box-shadow: 0px 1px 3px 1px rgba(0, 0, 0, 0.15);\n",
              "      filter: drop-shadow(0px 1px 2px rgba(0, 0, 0, 0.3));\n",
              "      fill: #FFFFFF;\n",
              "    }\n",
              "  </style>\n",
              "\n",
              "    <script>\n",
              "      const buttonEl =\n",
              "        document.querySelector('#df-32dee688-8cc9-4481-8163-d68bcef1d242 button.colab-df-convert');\n",
              "      buttonEl.style.display =\n",
              "        google.colab.kernel.accessAllowed ? 'block' : 'none';\n",
              "\n",
              "      async function convertToInteractive(key) {\n",
              "        const element = document.querySelector('#df-32dee688-8cc9-4481-8163-d68bcef1d242');\n",
              "        const dataTable =\n",
              "          await google.colab.kernel.invokeFunction('convertToInteractive',\n",
              "                                                    [key], {});\n",
              "        if (!dataTable) return;\n",
              "\n",
              "        const docLinkHtml = 'Like what you see? Visit the ' +\n",
              "          '<a target=\"_blank\" href=https://colab.research.google.com/notebooks/data_table.ipynb>data table notebook</a>'\n",
              "          + ' to learn more about interactive tables.';\n",
              "        element.innerHTML = '';\n",
              "        dataTable['output_type'] = 'display_data';\n",
              "        await google.colab.output.renderOutput(dataTable, element);\n",
              "        const docLink = document.createElement('div');\n",
              "        docLink.innerHTML = docLinkHtml;\n",
              "        element.appendChild(docLink);\n",
              "      }\n",
              "    </script>\n",
              "  </div>\n",
              "\n",
              "\n",
              "    <div id=\"df-9a85f7d4-bdd9-4a0e-ae62-e1eee85099ba\">\n",
              "      <button class=\"colab-df-quickchart\" onclick=\"quickchart('df-9a85f7d4-bdd9-4a0e-ae62-e1eee85099ba')\"\n",
              "                title=\"Suggest charts\"\n",
              "                style=\"display:none;\">\n",
              "\n",
              "<svg xmlns=\"http://www.w3.org/2000/svg\" height=\"24px\"viewBox=\"0 0 24 24\"\n",
              "     width=\"24px\">\n",
              "    <g>\n",
              "        <path d=\"M19 3H5c-1.1 0-2 .9-2 2v14c0 1.1.9 2 2 2h14c1.1 0 2-.9 2-2V5c0-1.1-.9-2-2-2zM9 17H7v-7h2v7zm4 0h-2V7h2v10zm4 0h-2v-4h2v4z\"/>\n",
              "    </g>\n",
              "</svg>\n",
              "      </button>\n",
              "\n",
              "<style>\n",
              "  .colab-df-quickchart {\n",
              "      --bg-color: #E8F0FE;\n",
              "      --fill-color: #1967D2;\n",
              "      --hover-bg-color: #E2EBFA;\n",
              "      --hover-fill-color: #174EA6;\n",
              "      --disabled-fill-color: #AAA;\n",
              "      --disabled-bg-color: #DDD;\n",
              "  }\n",
              "\n",
              "  [theme=dark] .colab-df-quickchart {\n",
              "      --bg-color: #3B4455;\n",
              "      --fill-color: #D2E3FC;\n",
              "      --hover-bg-color: #434B5C;\n",
              "      --hover-fill-color: #FFFFFF;\n",
              "      --disabled-bg-color: #3B4455;\n",
              "      --disabled-fill-color: #666;\n",
              "  }\n",
              "\n",
              "  .colab-df-quickchart {\n",
              "    background-color: var(--bg-color);\n",
              "    border: none;\n",
              "    border-radius: 50%;\n",
              "    cursor: pointer;\n",
              "    display: none;\n",
              "    fill: var(--fill-color);\n",
              "    height: 32px;\n",
              "    padding: 0;\n",
              "    width: 32px;\n",
              "  }\n",
              "\n",
              "  .colab-df-quickchart:hover {\n",
              "    background-color: var(--hover-bg-color);\n",
              "    box-shadow: 0 1px 2px rgba(60, 64, 67, 0.3), 0 1px 3px 1px rgba(60, 64, 67, 0.15);\n",
              "    fill: var(--button-hover-fill-color);\n",
              "  }\n",
              "\n",
              "  .colab-df-quickchart-complete:disabled,\n",
              "  .colab-df-quickchart-complete:disabled:hover {\n",
              "    background-color: var(--disabled-bg-color);\n",
              "    fill: var(--disabled-fill-color);\n",
              "    box-shadow: none;\n",
              "  }\n",
              "\n",
              "  .colab-df-spinner {\n",
              "    border: 2px solid var(--fill-color);\n",
              "    border-color: transparent;\n",
              "    border-bottom-color: var(--fill-color);\n",
              "    animation:\n",
              "      spin 1s steps(1) infinite;\n",
              "  }\n",
              "\n",
              "  @keyframes spin {\n",
              "    0% {\n",
              "      border-color: transparent;\n",
              "      border-bottom-color: var(--fill-color);\n",
              "      border-left-color: var(--fill-color);\n",
              "    }\n",
              "    20% {\n",
              "      border-color: transparent;\n",
              "      border-left-color: var(--fill-color);\n",
              "      border-top-color: var(--fill-color);\n",
              "    }\n",
              "    30% {\n",
              "      border-color: transparent;\n",
              "      border-left-color: var(--fill-color);\n",
              "      border-top-color: var(--fill-color);\n",
              "      border-right-color: var(--fill-color);\n",
              "    }\n",
              "    40% {\n",
              "      border-color: transparent;\n",
              "      border-right-color: var(--fill-color);\n",
              "      border-top-color: var(--fill-color);\n",
              "    }\n",
              "    60% {\n",
              "      border-color: transparent;\n",
              "      border-right-color: var(--fill-color);\n",
              "    }\n",
              "    80% {\n",
              "      border-color: transparent;\n",
              "      border-right-color: var(--fill-color);\n",
              "      border-bottom-color: var(--fill-color);\n",
              "    }\n",
              "    90% {\n",
              "      border-color: transparent;\n",
              "      border-bottom-color: var(--fill-color);\n",
              "    }\n",
              "  }\n",
              "</style>\n",
              "\n",
              "      <script>\n",
              "        async function quickchart(key) {\n",
              "          const quickchartButtonEl =\n",
              "            document.querySelector('#' + key + ' button');\n",
              "          quickchartButtonEl.disabled = true;  // To prevent multiple clicks.\n",
              "          quickchartButtonEl.classList.add('colab-df-spinner');\n",
              "          try {\n",
              "            const charts = await google.colab.kernel.invokeFunction(\n",
              "                'suggestCharts', [key], {});\n",
              "          } catch (error) {\n",
              "            console.error('Error during call to suggestCharts:', error);\n",
              "          }\n",
              "          quickchartButtonEl.classList.remove('colab-df-spinner');\n",
              "          quickchartButtonEl.classList.add('colab-df-quickchart-complete');\n",
              "        }\n",
              "        (() => {\n",
              "          let quickchartButtonEl =\n",
              "            document.querySelector('#df-9a85f7d4-bdd9-4a0e-ae62-e1eee85099ba button');\n",
              "          quickchartButtonEl.style.display =\n",
              "            google.colab.kernel.accessAllowed ? 'block' : 'none';\n",
              "        })();\n",
              "      </script>\n",
              "    </div>\n",
              "\n",
              "    </div>\n",
              "  </div>\n"
            ],
            "application/vnd.google.colaboratory.intrinsic+json": {
              "type": "dataframe",
              "summary": "{\n  \"name\": \"df\",\n  \"rows\": 5,\n  \"fields\": [\n    {\n      \"column\": \"id\",\n      \"properties\": {\n        \"dtype\": \"number\",\n        \"std\": 0,\n        \"min\": 1200103,\n        \"max\": 1200103,\n        \"num_unique_values\": 1,\n        \"samples\": [\n          1200103\n        ],\n        \"semantic_type\": \"\",\n        \"description\": \"\"\n      }\n    },\n    {\n      \"column\": \"name\",\n      \"properties\": {\n        \"dtype\": \"category\",\n        \"num_unique_values\": 1,\n        \"samples\": [\n          \"Hotel Sorella CITYCENTRE\"\n        ],\n        \"semantic_type\": \"\",\n        \"description\": \"\"\n      }\n    },\n    {\n      \"column\": \"date\",\n      \"properties\": {\n        \"dtype\": \"string\",\n        \"num_unique_values\": 3,\n        \"samples\": [\n          \"Dec 4\"\n        ],\n        \"semantic_type\": \"\",\n        \"description\": \"\"\n      }\n    },\n    {\n      \"column\": \"review title\",\n      \"properties\": {\n        \"dtype\": \"string\",\n        \"num_unique_values\": 5,\n        \"samples\": [\n          \"Overpriced and poorly managed\"\n        ],\n        \"semantic_type\": \"\",\n        \"description\": \"\"\n      }\n    },\n    {\n      \"column\": \"review\",\n      \"properties\": {\n        \"dtype\": \"string\",\n        \"num_unique_values\": 5,\n        \"samples\": [\n          \"Issues in the room, sink clogged, no soap, took multiple times calling staff to have resolved. Poorly designed rooms. Lobby and other common areas smell was overwhelming from whatever cleaning solution was used.\"\n        ],\n        \"semantic_type\": \"\",\n        \"description\": \"\"\n      }\n    },\n    {\n      \"column\": \"travel type\",\n      \"properties\": {\n        \"dtype\": \"category\",\n        \"num_unique_values\": 1,\n        \"samples\": [\n          \"Traveled on business\"\n        ],\n        \"semantic_type\": \"\",\n        \"description\": \"\"\n      }\n    },\n    {\n      \"column\": \"rating\",\n      \"properties\": {\n        \"dtype\": \"number\",\n        \"std\": 0,\n        \"min\": 4,\n        \"max\": 5,\n        \"num_unique_values\": 2,\n        \"samples\": [\n          4\n        ],\n        \"semantic_type\": \"\",\n        \"description\": \"\"\n      }\n    },\n    {\n      \"column\": \"preprocessed_reviews\",\n      \"properties\": {\n        \"dtype\": \"string\",\n        \"num_unique_values\": 5,\n        \"samples\": [\n          \"issue room , sink clogged , soap , took multiple time calling staff resolved . poorly designed room . lobby common area smell overwhelming whatever cleaning solution used .\"\n        ],\n        \"semantic_type\": \"\",\n        \"description\": \"\"\n      }\n    }\n  ]\n}"
            }
          },
          "metadata": {},
          "execution_count": 7
        }
      ]
    },
    {
      "cell_type": "code",
      "source": [
        "# print shape of the data\n",
        "df.shape"
      ],
      "metadata": {
        "colab": {
          "base_uri": "https://localhost:8080/"
        },
        "id": "yU-pTiH0XsmH",
        "outputId": "00e5509d-8e3c-4fbd-9dbd-1db0cbcf4bbf"
      },
      "execution_count": 8,
      "outputs": [
        {
          "output_type": "execute_result",
          "data": {
            "text/plain": [
              "(250, 8)"
            ]
          },
          "metadata": {},
          "execution_count": 8
        }
      ]
    },
    {
      "cell_type": "code",
      "source": [
        "# find the missing data from the dataframe\n",
        "df.isnull().sum()"
      ],
      "metadata": {
        "colab": {
          "base_uri": "https://localhost:8080/",
          "height": 335
        },
        "id": "fzYcVpq2YUGQ",
        "outputId": "98fb30f3-87ab-48ae-8d4d-a9363ed3e73b"
      },
      "execution_count": 9,
      "outputs": [
        {
          "output_type": "execute_result",
          "data": {
            "text/plain": [
              "id                      0\n",
              "name                    0\n",
              "date                    0\n",
              "review title            0\n",
              "review                  0\n",
              "travel type             0\n",
              "rating                  0\n",
              "preprocessed_reviews    0\n",
              "dtype: int64"
            ],
            "text/html": [
              "<div>\n",
              "<style scoped>\n",
              "    .dataframe tbody tr th:only-of-type {\n",
              "        vertical-align: middle;\n",
              "    }\n",
              "\n",
              "    .dataframe tbody tr th {\n",
              "        vertical-align: top;\n",
              "    }\n",
              "\n",
              "    .dataframe thead th {\n",
              "        text-align: right;\n",
              "    }\n",
              "</style>\n",
              "<table border=\"1\" class=\"dataframe\">\n",
              "  <thead>\n",
              "    <tr style=\"text-align: right;\">\n",
              "      <th></th>\n",
              "      <th>0</th>\n",
              "    </tr>\n",
              "  </thead>\n",
              "  <tbody>\n",
              "    <tr>\n",
              "      <th>id</th>\n",
              "      <td>0</td>\n",
              "    </tr>\n",
              "    <tr>\n",
              "      <th>name</th>\n",
              "      <td>0</td>\n",
              "    </tr>\n",
              "    <tr>\n",
              "      <th>date</th>\n",
              "      <td>0</td>\n",
              "    </tr>\n",
              "    <tr>\n",
              "      <th>review title</th>\n",
              "      <td>0</td>\n",
              "    </tr>\n",
              "    <tr>\n",
              "      <th>review</th>\n",
              "      <td>0</td>\n",
              "    </tr>\n",
              "    <tr>\n",
              "      <th>travel type</th>\n",
              "      <td>0</td>\n",
              "    </tr>\n",
              "    <tr>\n",
              "      <th>rating</th>\n",
              "      <td>0</td>\n",
              "    </tr>\n",
              "    <tr>\n",
              "      <th>preprocessed_reviews</th>\n",
              "      <td>0</td>\n",
              "    </tr>\n",
              "  </tbody>\n",
              "</table>\n",
              "</div><br><label><b>dtype:</b> int64</label>"
            ]
          },
          "metadata": {},
          "execution_count": 9
        }
      ]
    },
    {
      "cell_type": "code",
      "source": [
        "# revivew the coloumn\n",
        "df.columns\n"
      ],
      "metadata": {
        "colab": {
          "base_uri": "https://localhost:8080/"
        },
        "id": "2umGMm27Zro_",
        "outputId": "04a124d8-dece-4226-d0b5-0f03920c342a"
      },
      "execution_count": 10,
      "outputs": [
        {
          "output_type": "execute_result",
          "data": {
            "text/plain": [
              "Index(['id', 'name', 'date', 'review title', 'review', 'travel type', 'rating',\n",
              "       'preprocessed_reviews'],\n",
              "      dtype='object')"
            ]
          },
          "metadata": {},
          "execution_count": 10
        }
      ]
    },
    {
      "cell_type": "code",
      "source": [
        "df= pd.read_csv('/content/offerings - Reviews_Preprocessed.csv')\n",
        "print(df.head())"
      ],
      "metadata": {
        "colab": {
          "base_uri": "https://localhost:8080/"
        },
        "id": "NcC78dIscCtS",
        "outputId": "1c28c161-764b-43f9-9432-c3488db1235d"
      },
      "execution_count": 11,
      "outputs": [
        {
          "output_type": "stream",
          "name": "stdout",
          "text": [
            "       id                           name    date  \\\n",
            "0  113317  Casablanca Hotel Times Square  Dec 19   \n",
            "1  113317  Casablanca Hotel Times Square  Dec 17   \n",
            "2  113317  Casablanca Hotel Times Square  Dec 12   \n",
            "3  113317  Casablanca Hotel Times Square  Dec 12   \n",
            "4  113317  Casablanca Hotel Times Square  Dec 12   \n",
            "\n",
            "                                        review title  \\\n",
            "0  Wow, fabulous, amazing hotel, great location, ...   \n",
            "1                     Greatest boutique hotel in NYC   \n",
            "2                     Great Hotel and Great Location   \n",
            "3                              A Jewel in the Jungle   \n",
            "4                     Girls Trip in NYC at Christmas   \n",
            "\n",
            "                                              review            travel type  \\\n",
            "0  Amazing Mother and Daughter time at Casablanca...   Traveled with family   \n",
            "1  After staying at different hotels in NYC over ...   Traveled as a couple   \n",
            "2  Fantastic boutique hotel with the greatest loc...   Traveled as a couple   \n",
            "3  Great hotel and staff. Convenient to all thing...   Traveled as a couple   \n",
            "4  This is our 2nd girls trip to NYC & at the Cas...  Traveled with friends   \n",
            "\n",
            "   rating                               preprocessed_reviews  \n",
            "0       5  amazing mother daughter time casablanca hotel ...  \n",
            "1       5  staying different hotel nyc many year found tr...  \n",
            "2       5  fantastic boutique hotel greatest location . s...  \n",
            "3       5  great hotel staff . convenient thing nyc . fri...  \n",
            "4       5  2nd girl trip nyc & casablanca ! ! love hotel ...  \n"
          ]
        }
      ]
    },
    {
      "cell_type": "code",
      "source": [
        "# create the sentiment column based on the rating\n",
        "df['sentiment'] = df['rating'].apply(lambda x: 'positive' if x > 3 else ('negative' if x < 3 else 'neutral'))\n",
        "print(df.head())"
      ],
      "metadata": {
        "colab": {
          "base_uri": "https://localhost:8080/"
        },
        "id": "8ivqgaNFcMDj",
        "outputId": "e9a7410d-ac8c-48db-ad15-9ebd379fa49d"
      },
      "execution_count": 12,
      "outputs": [
        {
          "output_type": "stream",
          "name": "stdout",
          "text": [
            "       id                           name    date  \\\n",
            "0  113317  Casablanca Hotel Times Square  Dec 19   \n",
            "1  113317  Casablanca Hotel Times Square  Dec 17   \n",
            "2  113317  Casablanca Hotel Times Square  Dec 12   \n",
            "3  113317  Casablanca Hotel Times Square  Dec 12   \n",
            "4  113317  Casablanca Hotel Times Square  Dec 12   \n",
            "\n",
            "                                        review title  \\\n",
            "0  Wow, fabulous, amazing hotel, great location, ...   \n",
            "1                     Greatest boutique hotel in NYC   \n",
            "2                     Great Hotel and Great Location   \n",
            "3                              A Jewel in the Jungle   \n",
            "4                     Girls Trip in NYC at Christmas   \n",
            "\n",
            "                                              review            travel type  \\\n",
            "0  Amazing Mother and Daughter time at Casablanca...   Traveled with family   \n",
            "1  After staying at different hotels in NYC over ...   Traveled as a couple   \n",
            "2  Fantastic boutique hotel with the greatest loc...   Traveled as a couple   \n",
            "3  Great hotel and staff. Convenient to all thing...   Traveled as a couple   \n",
            "4  This is our 2nd girls trip to NYC & at the Cas...  Traveled with friends   \n",
            "\n",
            "   rating                               preprocessed_reviews sentiment  \n",
            "0       5  amazing mother daughter time casablanca hotel ...  positive  \n",
            "1       5  staying different hotel nyc many year found tr...  positive  \n",
            "2       5  fantastic boutique hotel greatest location . s...  positive  \n",
            "3       5  great hotel staff . convenient thing nyc . fri...  positive  \n",
            "4       5  2nd girl trip nyc & casablanca ! ! love hotel ...  positive  \n"
          ]
        }
      ]
    },
    {
      "cell_type": "code",
      "source": [
        "# remove special characters\n",
        "df['review'] = df['review'].str.replace('[^\\w\\s]','')\n",
        "print(df.head())"
      ],
      "metadata": {
        "colab": {
          "base_uri": "https://localhost:8080/"
        },
        "id": "xySO3fVzdQij",
        "outputId": "e83b62fa-9c5f-4cad-ef25-11c874dacce3"
      },
      "execution_count": 13,
      "outputs": [
        {
          "output_type": "stream",
          "name": "stdout",
          "text": [
            "       id                           name    date  \\\n",
            "0  113317  Casablanca Hotel Times Square  Dec 19   \n",
            "1  113317  Casablanca Hotel Times Square  Dec 17   \n",
            "2  113317  Casablanca Hotel Times Square  Dec 12   \n",
            "3  113317  Casablanca Hotel Times Square  Dec 12   \n",
            "4  113317  Casablanca Hotel Times Square  Dec 12   \n",
            "\n",
            "                                        review title  \\\n",
            "0  Wow, fabulous, amazing hotel, great location, ...   \n",
            "1                     Greatest boutique hotel in NYC   \n",
            "2                     Great Hotel and Great Location   \n",
            "3                              A Jewel in the Jungle   \n",
            "4                     Girls Trip in NYC at Christmas   \n",
            "\n",
            "                                              review            travel type  \\\n",
            "0  Amazing Mother and Daughter time at Casablanca...   Traveled with family   \n",
            "1  After staying at different hotels in NYC over ...   Traveled as a couple   \n",
            "2  Fantastic boutique hotel with the greatest loc...   Traveled as a couple   \n",
            "3  Great hotel and staff. Convenient to all thing...   Traveled as a couple   \n",
            "4  This is our 2nd girls trip to NYC & at the Cas...  Traveled with friends   \n",
            "\n",
            "   rating                               preprocessed_reviews sentiment  \n",
            "0       5  amazing mother daughter time casablanca hotel ...  positive  \n",
            "1       5  staying different hotel nyc many year found tr...  positive  \n",
            "2       5  fantastic boutique hotel greatest location . s...  positive  \n",
            "3       5  great hotel staff . convenient thing nyc . fri...  positive  \n",
            "4       5  2nd girl trip nyc & casablanca ! ! love hotel ...  positive  \n"
          ]
        }
      ]
    },
    {
      "cell_type": "code",
      "source": [
        "# remove extra space\n",
        "df['review'] = df['review'].apply(lambda x: ' '.join(x.split()))\n",
        "print(df.head())"
      ],
      "metadata": {
        "colab": {
          "base_uri": "https://localhost:8080/"
        },
        "id": "H7RLYhoKd3z1",
        "outputId": "9ef1200e-5d93-400d-81c8-54aacc1a871c"
      },
      "execution_count": 14,
      "outputs": [
        {
          "output_type": "stream",
          "name": "stdout",
          "text": [
            "       id                           name    date  \\\n",
            "0  113317  Casablanca Hotel Times Square  Dec 19   \n",
            "1  113317  Casablanca Hotel Times Square  Dec 17   \n",
            "2  113317  Casablanca Hotel Times Square  Dec 12   \n",
            "3  113317  Casablanca Hotel Times Square  Dec 12   \n",
            "4  113317  Casablanca Hotel Times Square  Dec 12   \n",
            "\n",
            "                                        review title  \\\n",
            "0  Wow, fabulous, amazing hotel, great location, ...   \n",
            "1                     Greatest boutique hotel in NYC   \n",
            "2                     Great Hotel and Great Location   \n",
            "3                              A Jewel in the Jungle   \n",
            "4                     Girls Trip in NYC at Christmas   \n",
            "\n",
            "                                              review            travel type  \\\n",
            "0  Amazing Mother and Daughter time at Casablanca...   Traveled with family   \n",
            "1  After staying at different hotels in NYC over ...   Traveled as a couple   \n",
            "2  Fantastic boutique hotel with the greatest loc...   Traveled as a couple   \n",
            "3  Great hotel and staff. Convenient to all thing...   Traveled as a couple   \n",
            "4  This is our 2nd girls trip to NYC & at the Cas...  Traveled with friends   \n",
            "\n",
            "   rating                               preprocessed_reviews sentiment  \n",
            "0       5  amazing mother daughter time casablanca hotel ...  positive  \n",
            "1       5  staying different hotel nyc many year found tr...  positive  \n",
            "2       5  fantastic boutique hotel greatest location . s...  positive  \n",
            "3       5  great hotel staff . convenient thing nyc . fri...  positive  \n",
            "4       5  2nd girl trip nyc & casablanca ! ! love hotel ...  positive  \n"
          ]
        }
      ]
    },
    {
      "cell_type": "code",
      "source": [
        "# get the list of english stopwords\n",
        "import nltk\n",
        "nltk.download('stopwords')\n",
        "from nltk.corpus import stopwords\n",
        "stop = stopwords.words('english')"
      ],
      "metadata": {
        "colab": {
          "base_uri": "https://localhost:8080/"
        },
        "id": "bVbVii0keKFd",
        "outputId": "9c9e64b3-44ec-44cc-c551-3fd353d8da83"
      },
      "execution_count": 15,
      "outputs": [
        {
          "output_type": "stream",
          "name": "stderr",
          "text": [
            "[nltk_data] Downloading package stopwords to /root/nltk_data...\n",
            "[nltk_data]   Unzipping corpora/stopwords.zip.\n"
          ]
        }
      ]
    },
    {
      "cell_type": "code",
      "source": [
        "# remove stopwords\n",
        "df['review'] = df['review'].apply(lambda x: ' '.join([word for word in x.split() if word not in (stop)]))\n",
        "print(df.head())"
      ],
      "metadata": {
        "colab": {
          "base_uri": "https://localhost:8080/"
        },
        "id": "JJNDWQusedXW",
        "outputId": "e155e706-9fb7-4a8b-b50a-bce81954c12c"
      },
      "execution_count": 16,
      "outputs": [
        {
          "output_type": "stream",
          "name": "stdout",
          "text": [
            "       id                           name    date  \\\n",
            "0  113317  Casablanca Hotel Times Square  Dec 19   \n",
            "1  113317  Casablanca Hotel Times Square  Dec 17   \n",
            "2  113317  Casablanca Hotel Times Square  Dec 12   \n",
            "3  113317  Casablanca Hotel Times Square  Dec 12   \n",
            "4  113317  Casablanca Hotel Times Square  Dec 12   \n",
            "\n",
            "                                        review title  \\\n",
            "0  Wow, fabulous, amazing hotel, great location, ...   \n",
            "1                     Greatest boutique hotel in NYC   \n",
            "2                     Great Hotel and Great Location   \n",
            "3                              A Jewel in the Jungle   \n",
            "4                     Girls Trip in NYC at Christmas   \n",
            "\n",
            "                                              review            travel type  \\\n",
            "0  Amazing Mother Daughter time Casablanca Hotel ...   Traveled with family   \n",
            "1  After staying different hotels NYC many years ...   Traveled as a couple   \n",
            "2  Fantastic boutique hotel greatest location. We...   Traveled as a couple   \n",
            "3  Great hotel staff. Convenient things NYC. Frie...   Traveled as a couple   \n",
            "4  This 2nd girls trip NYC & Casablanca!! We LOVE...  Traveled with friends   \n",
            "\n",
            "   rating                               preprocessed_reviews sentiment  \n",
            "0       5  amazing mother daughter time casablanca hotel ...  positive  \n",
            "1       5  staying different hotel nyc many year found tr...  positive  \n",
            "2       5  fantastic boutique hotel greatest location . s...  positive  \n",
            "3       5  great hotel staff . convenient thing nyc . fri...  positive  \n",
            "4       5  2nd girl trip nyc & casablanca ! ! love hotel ...  positive  \n"
          ]
        }
      ]
    },
    {
      "cell_type": "code",
      "source": [
        "# get the list of french stopwords\n",
        "import nltk\n",
        "nltk.download('stopwords')\n",
        "from nltk.corpus import stopwords\n",
        "stop = stopwords.words('french')"
      ],
      "metadata": {
        "colab": {
          "base_uri": "https://localhost:8080/"
        },
        "id": "fNa26z8Ge6Zv",
        "outputId": "7cb891dc-ea29-4e03-9592-61c4c5b73335"
      },
      "execution_count": 17,
      "outputs": [
        {
          "output_type": "stream",
          "name": "stderr",
          "text": [
            "[nltk_data] Downloading package stopwords to /root/nltk_data...\n",
            "[nltk_data]   Package stopwords is already up-to-date!\n"
          ]
        }
      ]
    },
    {
      "cell_type": "code",
      "source": [
        "# remove stopwords for french\n",
        "df['review'] = df['review'].apply(lambda x: ' '.join([word for word in x.split() if word not in (stop)]))\n",
        "print(df.head())"
      ],
      "metadata": {
        "colab": {
          "base_uri": "https://localhost:8080/"
        },
        "id": "bmvf1tm2fCSY",
        "outputId": "8d4c2906-bec5-4e89-f5b3-da6a1c33c6b2"
      },
      "execution_count": 18,
      "outputs": [
        {
          "output_type": "stream",
          "name": "stdout",
          "text": [
            "       id                           name    date  \\\n",
            "0  113317  Casablanca Hotel Times Square  Dec 19   \n",
            "1  113317  Casablanca Hotel Times Square  Dec 17   \n",
            "2  113317  Casablanca Hotel Times Square  Dec 12   \n",
            "3  113317  Casablanca Hotel Times Square  Dec 12   \n",
            "4  113317  Casablanca Hotel Times Square  Dec 12   \n",
            "\n",
            "                                        review title  \\\n",
            "0  Wow, fabulous, amazing hotel, great location, ...   \n",
            "1                     Greatest boutique hotel in NYC   \n",
            "2                     Great Hotel and Great Location   \n",
            "3                              A Jewel in the Jungle   \n",
            "4                     Girls Trip in NYC at Christmas   \n",
            "\n",
            "                                              review            travel type  \\\n",
            "0  Amazing Mother Daughter time Casablanca Hotel ...   Traveled with family   \n",
            "1  After staying different hotels NYC many years ...   Traveled as a couple   \n",
            "2  Fantastic boutique hotel greatest location. We...   Traveled as a couple   \n",
            "3  Great hotel staff. Convenient things NYC. Frie...   Traveled as a couple   \n",
            "4  This 2nd girls trip NYC & Casablanca!! We LOVE...  Traveled with friends   \n",
            "\n",
            "   rating                               preprocessed_reviews sentiment  \n",
            "0       5  amazing mother daughter time casablanca hotel ...  positive  \n",
            "1       5  staying different hotel nyc many year found tr...  positive  \n",
            "2       5  fantastic boutique hotel greatest location . s...  positive  \n",
            "3       5  great hotel staff . convenient thing nyc . fri...  positive  \n",
            "4       5  2nd girl trip nyc & casablanca ! ! love hotel ...  positive  \n"
          ]
        }
      ]
    },
    {
      "cell_type": "code",
      "source": [
        "#lemmatization with nlk\n",
        "import nltk\n",
        "nltk.download('wordnet')\n",
        "from nltk.stem import WordNetLemmatizer\n",
        "lemmatizer = WordNetLemmatizer()"
      ],
      "metadata": {
        "colab": {
          "base_uri": "https://localhost:8080/"
        },
        "id": "XLZH-O5ngJHp",
        "outputId": "d53f23e3-34f6-400a-ba5f-1847569b1e42"
      },
      "execution_count": 19,
      "outputs": [
        {
          "output_type": "stream",
          "name": "stderr",
          "text": [
            "[nltk_data] Downloading package wordnet to /root/nltk_data...\n"
          ]
        }
      ]
    },
    {
      "cell_type": "code",
      "source": [
        "# stemming with nltk\n",
        "from nltk.stem import PorterStemmer\n",
        "stemmer = PorterStemmer()"
      ],
      "metadata": {
        "id": "p4xpEi4agZR5"
      },
      "execution_count": 20,
      "outputs": []
    },
    {
      "cell_type": "code",
      "source": [
        "import pandas as pd\n",
        "from sklearn.model_selection import train_test_split\n",
        "from sklearn.feature_extraction.text import TfidfVectorizer\n",
        "from sklearn.linear_model import LogisticRegression\n",
        "from sklearn.metrics import classification_report\n",
        "import gradio as gr\n"
      ],
      "metadata": {
        "id": "QJZnAWvXfsil"
      },
      "execution_count": 21,
      "outputs": []
    },
    {
      "cell_type": "code",
      "source": [
        "# split data\n",
        "x= df[\"preprocessed_reviews\"]\n",
        "y= df[\"sentiment\"]\n",
        "x_train, x_test, y_train, y_test = train_test_split(x, y, test_size=0.2, random_state=42)\n"
      ],
      "metadata": {
        "id": "iuNkgX3rh8Qd"
      },
      "execution_count": 22,
      "outputs": []
    },
    {
      "cell_type": "code",
      "source": [
        "# vectorize text\n",
        "vectorizer = TfidfVectorizer(max_features=5000)\n",
        "x_train_vec = vectorizer.fit_transform(x_train)\n",
        "x_test_vec = vectorizer.transform(x_test)"
      ],
      "metadata": {
        "id": "uQMWVFBMiz0x"
      },
      "execution_count": 23,
      "outputs": []
    },
    {
      "cell_type": "code",
      "source": [
        "# predict on data\n",
        "model = LogisticRegression()\n",
        "model.fit(x_train_vec, y_train)\n",
        "y_pred = model.predict(x_test_vec)\n"
      ],
      "metadata": {
        "id": "nUtCmSLmjT8-"
      },
      "execution_count": 24,
      "outputs": []
    },
    {
      "cell_type": "code",
      "source": [
        "# create classification report\n",
        "report = classification_report(y_test, y_pred)\n",
        "print(report)"
      ],
      "metadata": {
        "colab": {
          "base_uri": "https://localhost:8080/"
        },
        "id": "8Uw7Zjp6jnPK",
        "outputId": "3a6895e8-5254-483d-8e93-d2d1dad2bfce"
      },
      "execution_count": 25,
      "outputs": [
        {
          "output_type": "stream",
          "name": "stdout",
          "text": [
            "              precision    recall  f1-score   support\n",
            "\n",
            "    negative       0.00      0.00      0.00         4\n",
            "     neutral       0.00      0.00      0.00         3\n",
            "    positive       0.86      1.00      0.92        43\n",
            "\n",
            "    accuracy                           0.86        50\n",
            "   macro avg       0.29      0.33      0.31        50\n",
            "weighted avg       0.74      0.86      0.80        50\n",
            "\n"
          ]
        },
        {
          "output_type": "stream",
          "name": "stderr",
          "text": [
            "/usr/local/lib/python3.11/dist-packages/sklearn/metrics/_classification.py:1565: UndefinedMetricWarning: Precision is ill-defined and being set to 0.0 in labels with no predicted samples. Use `zero_division` parameter to control this behavior.\n",
            "  _warn_prf(average, modifier, f\"{metric.capitalize()} is\", len(result))\n",
            "/usr/local/lib/python3.11/dist-packages/sklearn/metrics/_classification.py:1565: UndefinedMetricWarning: Precision is ill-defined and being set to 0.0 in labels with no predicted samples. Use `zero_division` parameter to control this behavior.\n",
            "  _warn_prf(average, modifier, f\"{metric.capitalize()} is\", len(result))\n",
            "/usr/local/lib/python3.11/dist-packages/sklearn/metrics/_classification.py:1565: UndefinedMetricWarning: Precision is ill-defined and being set to 0.0 in labels with no predicted samples. Use `zero_division` parameter to control this behavior.\n",
            "  _warn_prf(average, modifier, f\"{metric.capitalize()} is\", len(result))\n"
          ]
        }
      ]
    },
    {
      "cell_type": "code",
      "source": [
        "# gradio interface\n",
        "import gradio as gr\n",
        "def predict_sentiment(review):\n",
        "    review_vec = vectorizer.transform([review])\n",
        "    sentiment = model.predict(review_vec)[0]\n",
        "    return sentiment"
      ],
      "metadata": {
        "id": "VzxtmCTrj5eD"
      },
      "execution_count": 26,
      "outputs": []
    },
    {
      "cell_type": "code",
      "source": [
        "interface= gr.Interface(fn=predict_sentiment, inputs=\"text\", outputs=\"text\")\n",
        "\n",
        "fn= predict_sentiment,\n",
        "inputs=gr.Textbox(label=\"Enter your review\"),\n",
        "outputs=gr.Textbox(label=\"Predicted sentiment\"),\n",
        "title=\"Hotel revivew sentiment analysis\",\n",
        "descriptiom=\"Enter your review to predict the sentiment\"\n",
        "interface.launch()"
      ],
      "metadata": {
        "colab": {
          "base_uri": "https://localhost:8080/",
          "height": 646
        },
        "id": "xPFAm-KklBc0",
        "outputId": "6951d7fb-ea8f-4bd8-c1a2-5c4652d4c6c7"
      },
      "execution_count": 27,
      "outputs": [
        {
          "output_type": "stream",
          "name": "stdout",
          "text": [
            "It looks like you are running Gradio on a hosted a Jupyter notebook. For the Gradio app to work, sharing must be enabled. Automatically setting `share=True` (you can turn this off by setting `share=False` in `launch()` explicitly).\n",
            "\n",
            "Colab notebook detected. To show errors in colab notebook, set debug=True in launch()\n",
            "* Running on public URL: https://10845e40b49f473a6b.gradio.live\n",
            "\n",
            "This share link expires in 1 week. For free permanent hosting and GPU upgrades, run `gradio deploy` from the terminal in the working directory to deploy to Hugging Face Spaces (https://huggingface.co/spaces)\n"
          ]
        },
        {
          "output_type": "display_data",
          "data": {
            "text/plain": [
              "<IPython.core.display.HTML object>"
            ],
            "text/html": [
              "<div><iframe src=\"https://10845e40b49f473a6b.gradio.live\" width=\"100%\" height=\"500\" allow=\"autoplay; camera; microphone; clipboard-read; clipboard-write;\" frameborder=\"0\" allowfullscreen></iframe></div>"
            ]
          },
          "metadata": {}
        },
        {
          "output_type": "execute_result",
          "data": {
            "text/plain": []
          },
          "metadata": {},
          "execution_count": 27
        }
      ]
    }
  ]
}